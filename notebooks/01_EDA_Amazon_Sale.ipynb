{
 "cells": [
  {
   "cell_type": "code",
   "execution_count": null,
   "id": "7508209e",
   "metadata": {},
   "outputs": [
    {
     "ename": "SyntaxError",
     "evalue": "invalid syntax (3347819464.py, line 8)",
     "output_type": "error",
     "traceback": [
      "  \u001b[36mCell\u001b[39m\u001b[36m \u001b[39m\u001b[32mIn[15]\u001b[39m\u001b[32m, line 8\u001b[39m\n\u001b[31m    \u001b[39m\u001b[31mfrom ../src import soporte as sp\u001b[39m\n           ^\n\u001b[31mSyntaxError\u001b[39m\u001b[31m:\u001b[39m invalid syntax\n"
     ]
    }
   ],
   "source": [
    "import re, pathlib, sys\n",
    "import numpy as np\n",
    "import pandas as pd\n",
    "from pathlib import Path\n",
    "\n",
    "pd.options.display.float_format = \"{:,.2f}\".format\n"
   ]
  },
  {
   "cell_type": "code",
   "execution_count": null,
   "id": "7d13627a",
   "metadata": {},
   "outputs": [],
   "source": [
    "df_amazon_sale = pd.read_csv(\"../data/data_raw/Amazon Sale Report.csv\", encoding=auto, sep=';')\n"
   ]
  },
  {
   "cell_type": "code",
   "execution_count": 13,
   "id": "e14184b3",
   "metadata": {},
   "outputs": [
    {
     "ename": "TypeError",
     "evalue": "'WindowsPath' object is not subscriptable",
     "output_type": "error",
     "traceback": [
      "\u001b[31m---------------------------------------------------------------------------\u001b[39m",
      "\u001b[31mTypeError\u001b[39m                                 Traceback (most recent call last)",
      "\u001b[36mCell\u001b[39m\u001b[36m \u001b[39m\u001b[32mIn[13]\u001b[39m\u001b[32m, line 1\u001b[39m\n\u001b[32m----> \u001b[39m\u001b[32m1\u001b[39m \u001b[43msp\u001b[49m\u001b[43m.\u001b[49m\u001b[43mmostrar_todos_valores_columna\u001b[49m\u001b[43m(\u001b[49m\u001b[43mAMAZON_PATH\u001b[49m\u001b[43m,\u001b[49m\u001b[43m \u001b[49m\u001b[33;43m\"\u001b[39;49m\u001b[33;43mOrder Status\u001b[39;49m\u001b[33;43m\"\u001b[39;49m\u001b[43m)\u001b[49m\n",
      "\u001b[36mFile \u001b[39m\u001b[32mc:\\Users\\victo\\Desktop\\DATA_RETAIL\\notebooks\\../src\\soporte.py:43\u001b[39m, in \u001b[36mmostrar_todos_valores_columna\u001b[39m\u001b[34m(df, columna, max_filas)\u001b[39m\n\u001b[32m     41\u001b[39m \u001b[38;5;28;01mif\u001b[39;00m max_filas \u001b[38;5;129;01mis\u001b[39;00m \u001b[38;5;28;01mNone\u001b[39;00m:\n\u001b[32m     42\u001b[39m     \u001b[38;5;28;01mwith\u001b[39;00m pd.option_context(\u001b[33m'\u001b[39m\u001b[33mdisplay.max_rows\u001b[39m\u001b[33m'\u001b[39m, \u001b[38;5;28;01mNone\u001b[39;00m):\n\u001b[32m---> \u001b[39m\u001b[32m43\u001b[39m         display(\u001b[43mresumen_valores_columna\u001b[49m\u001b[43m(\u001b[49m\u001b[43mdf\u001b[49m\u001b[43m,\u001b[49m\u001b[43m \u001b[49m\u001b[43mcolumna\u001b[49m\u001b[43m)\u001b[49m)\n\u001b[32m     44\u001b[39m \u001b[38;5;28;01melse\u001b[39;00m:\n\u001b[32m     45\u001b[39m     \u001b[38;5;28;01mwith\u001b[39;00m pd.option_context(\u001b[33m'\u001b[39m\u001b[33mdisplay.max_rows\u001b[39m\u001b[33m'\u001b[39m, max_filas):\n",
      "\u001b[36mFile \u001b[39m\u001b[32mc:\\Users\\victo\\Desktop\\DATA_RETAIL\\notebooks\\../src\\soporte.py:17\u001b[39m, in \u001b[36mresumen_valores_columna\u001b[39m\u001b[34m(df, columna)\u001b[39m\n\u001b[32m      6\u001b[39m \u001b[38;5;28;01mdef\u001b[39;00m\u001b[38;5;250m \u001b[39m\u001b[34mresumen_valores_columna\u001b[39m(df, columna):\n\u001b[32m      7\u001b[39m \u001b[38;5;250m    \u001b[39m\u001b[33;03m\"\"\"\u001b[39;00m\n\u001b[32m      8\u001b[39m \u001b[33;03m    Devuelve un resumen con los valores únicos y el porcentaje de cada valor (incluyendo nulos) de una columna.\u001b[39;00m\n\u001b[32m      9\u001b[39m \n\u001b[32m   (...)\u001b[39m\u001b[32m     15\u001b[39m \u001b[33;03m    - Un DataFrame con columnas: 'Cantidad' y '%'\u001b[39;00m\n\u001b[32m     16\u001b[39m \u001b[33;03m    \"\"\"\u001b[39;00m\n\u001b[32m---> \u001b[39m\u001b[32m17\u001b[39m     total = \u001b[43mdf\u001b[49m\u001b[43m[\u001b[49m\u001b[43mcolumna\u001b[49m\u001b[43m]\u001b[49m.shape[\u001b[32m0\u001b[39m]\n\u001b[32m     19\u001b[39m     cont = df[columna].value_counts(dropna=\u001b[38;5;28;01mFalse\u001b[39;00m).reset_index()\n\u001b[32m     20\u001b[39m     cont.columns = [columna, \u001b[33m'\u001b[39m\u001b[33mCantidad\u001b[39m\u001b[33m'\u001b[39m]\n",
      "\u001b[31mTypeError\u001b[39m: 'WindowsPath' object is not subscriptable"
     ]
    }
   ],
   "source": [
    "sp.mostrar_todos_valores_columna(AMAZON_PATH, \"Order Status\")\n"
   ]
  },
  {
   "cell_type": "code",
   "execution_count": null,
   "id": "6e6d811a",
   "metadata": {},
   "outputs": [],
   "source": []
  }
 ],
 "metadata": {
  "kernelspec": {
   "display_name": "Python (retail-data)",
   "language": "python",
   "name": "retail-data"
  },
  "language_info": {
   "codemirror_mode": {
    "name": "ipython",
    "version": 3
   },
   "file_extension": ".py",
   "mimetype": "text/x-python",
   "name": "python",
   "nbconvert_exporter": "python",
   "pygments_lexer": "ipython3",
   "version": "3.12.5"
  }
 },
 "nbformat": 4,
 "nbformat_minor": 5
}
